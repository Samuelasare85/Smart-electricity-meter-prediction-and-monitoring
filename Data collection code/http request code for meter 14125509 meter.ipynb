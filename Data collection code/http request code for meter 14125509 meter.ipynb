{
 "cells": [
  {
   "cell_type": "code",
   "execution_count": 5,
   "id": "d54999f1",
   "metadata": {},
   "outputs": [],
   "source": [
    "import requests"
   ]
  },
  {
   "cell_type": "code",
   "execution_count": 6,
   "id": "6e17e103",
   "metadata": {},
   "outputs": [],
   "source": [
    "payload = \"meter=14125509\" # change the meter number as required"
   ]
  },
  {
   "cell_type": "code",
   "execution_count": 7,
   "id": "d45a8abd",
   "metadata": {},
   "outputs": [],
   "source": [
    "url = \"https://enersmart.sperixlabs.org/balance\""
   ]
  },
  {
   "cell_type": "code",
   "execution_count": 8,
   "id": "5b61b843",
   "metadata": {},
   "outputs": [],
   "source": [
    "headers = {\n",
    "  'Accept': '*/*',\n",
    "  'Origin': 'https://enersmart.sperixlabs.org',\n",
    "  'Content-Type': 'application/x-www-form-urlencoded; charset=UTF-8'\n",
    "}"
   ]
  },
  {
   "cell_type": "code",
   "execution_count": 9,
   "id": "11779363",
   "metadata": {},
   "outputs": [],
   "source": [
    "response = requests.request(\"POST\", url, headers=headers, data=payload)"
   ]
  },
  {
   "cell_type": "code",
   "execution_count": 10,
   "id": "22e3cb1a",
   "metadata": {},
   "outputs": [],
   "source": [
    "result = response.json()"
   ]
  },
  {
   "cell_type": "code",
   "execution_count": 11,
   "id": "3aca080f",
   "metadata": {},
   "outputs": [
    {
     "data": {
      "text/plain": [
       "dict_values([20.0, 18.32, 20220624, 0, 20220711, 0, 20220711, 0, 0])"
      ]
     },
     "execution_count": 11,
     "metadata": {},
     "output_type": "execute_result"
    }
   ],
   "source": [
    "result.values()"
   ]
  },
  {
   "cell_type": "code",
   "execution_count": null,
   "id": "885669f2",
   "metadata": {},
   "outputs": [],
   "source": []
  },
  {
   "cell_type": "code",
   "execution_count": null,
   "id": "893d7b90",
   "metadata": {},
   "outputs": [],
   "source": []
  }
 ],
 "metadata": {
  "kernelspec": {
   "display_name": "Python 3 (ipykernel)",
   "language": "python",
   "name": "python3"
  },
  "language_info": {
   "codemirror_mode": {
    "name": "ipython",
    "version": 3
   },
   "file_extension": ".py",
   "mimetype": "text/x-python",
   "name": "python",
   "nbconvert_exporter": "python",
   "pygments_lexer": "ipython3",
   "version": "3.9.7"
  }
 },
 "nbformat": 4,
 "nbformat_minor": 5
}
