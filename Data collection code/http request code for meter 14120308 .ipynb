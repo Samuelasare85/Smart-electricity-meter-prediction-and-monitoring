{
 "cells": [
  {
   "cell_type": "code",
   "execution_count": 1,
   "id": "fc2af999",
   "metadata": {},
   "outputs": [],
   "source": [
    "import requests"
   ]
  },
  {
   "cell_type": "code",
   "execution_count": 2,
   "id": "8217a372",
   "metadata": {},
   "outputs": [],
   "source": [
    "url = \"https://enersmart.sperixlabs.org/balance\""
   ]
  },
  {
   "cell_type": "code",
   "execution_count": 3,
   "id": "01f01d22",
   "metadata": {},
   "outputs": [],
   "source": [
    "payload = \"meter=14120308\""
   ]
  },
  {
   "cell_type": "code",
   "execution_count": 4,
   "id": "9a796f8d",
   "metadata": {},
   "outputs": [],
   "source": [
    "headers = {\n",
    "  'Accept': '*/*',\n",
    "  'Origin': 'https://enersmart.sperixlabs.org',\n",
    "  'Content-Type': 'application/x-www-form-urlencoded; charset=UTF-8'\n",
    "}"
   ]
  },
  {
   "cell_type": "code",
   "execution_count": 5,
   "id": "e33d03df",
   "metadata": {},
   "outputs": [],
   "source": [
    "response = requests.request(\"POST\", url, headers=headers, data=payload)"
   ]
  },
  {
   "cell_type": "code",
   "execution_count": 6,
   "id": "17ff4c2b",
   "metadata": {},
   "outputs": [],
   "source": [
    "result = response.json()"
   ]
  },
  {
   "cell_type": "code",
   "execution_count": 7,
   "id": "f632b261",
   "metadata": {},
   "outputs": [
    {
     "data": {
      "text/plain": [
       "dict_values([30.0, 22.16, 20220630, 0, 20220711, 0, 20220711, 0, 0])"
      ]
     },
     "execution_count": 7,
     "metadata": {},
     "output_type": "execute_result"
    }
   ],
   "source": [
    "result.values()"
   ]
  },
  {
   "cell_type": "code",
   "execution_count": null,
   "id": "b40c0d8c",
   "metadata": {},
   "outputs": [],
   "source": []
  }
 ],
 "metadata": {
  "kernelspec": {
   "display_name": "Python 3 (ipykernel)",
   "language": "python",
   "name": "python3"
  },
  "language_info": {
   "codemirror_mode": {
    "name": "ipython",
    "version": 3
   },
   "file_extension": ".py",
   "mimetype": "text/x-python",
   "name": "python",
   "nbconvert_exporter": "python",
   "pygments_lexer": "ipython3",
   "version": "3.9.7"
  }
 },
 "nbformat": 4,
 "nbformat_minor": 5
}
