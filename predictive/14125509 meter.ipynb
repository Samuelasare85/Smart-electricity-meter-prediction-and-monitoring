{
 "cells": [
  {
   "cell_type": "code",
   "execution_count": 10,
   "id": "d54999f1",
   "metadata": {},
   "outputs": [],
   "source": [
    "import requests"
   ]
  },
  {
   "cell_type": "code",
   "execution_count": 11,
   "id": "d45a8abd",
   "metadata": {},
   "outputs": [],
   "source": [
    "url = \"https://enersmart.sperixlabs.org/balance\""
   ]
  },
  {
   "cell_type": "code",
   "execution_count": 12,
   "id": "6e17e103",
   "metadata": {},
   "outputs": [],
   "source": [
    "payload = \"meter=14125509\" # change the meter number as required"
   ]
  },
  {
   "cell_type": "code",
   "execution_count": 13,
   "id": "5b61b843",
   "metadata": {},
   "outputs": [],
   "source": [
    "headers = {\n",
    "  'Accept': '*/*',\n",
    "  'Origin': 'https://enersmart.sperixlabs.org',\n",
    "  'Content-Type': 'application/x-www-form-urlencoded; charset=UTF-8'\n",
    "}"
   ]
  },
  {
   "cell_type": "code",
   "execution_count": 14,
   "id": "11779363",
   "metadata": {},
   "outputs": [],
   "source": [
    "response = requests.request(\"POST\", url, headers=headers, data=payload)\n"
   ]
  },
  {
   "cell_type": "code",
   "execution_count": 15,
   "id": "22e3cb1a",
   "metadata": {},
   "outputs": [],
   "source": [
    "result = response.json()"
   ]
  },
  {
   "cell_type": "code",
   "execution_count": 17,
   "id": "3aca080f",
   "metadata": {},
   "outputs": [
    {
     "data": {
      "text/plain": [
       "dict_values([20.0, 13.45, 20220624, 0, 20220722, 0, 20220722, 0, 0])"
      ]
     },
     "execution_count": 17,
     "metadata": {},
     "output_type": "execute_result"
    }
   ],
   "source": [
    "result.values()"
   ]
  },
  {
   "cell_type": "code",
   "execution_count": null,
   "id": "885669f2",
   "metadata": {},
   "outputs": [],
   "source": []
  },
  {
   "cell_type": "code",
   "execution_count": null,
   "id": "893d7b90",
   "metadata": {},
   "outputs": [],
   "source": []
  }
 ],
 "metadata": {
  "kernelspec": {
   "display_name": "Python 3.7.1 64-bit",
   "language": "python",
   "name": "python3"
  },
  "language_info": {
   "codemirror_mode": {
    "name": "ipython",
    "version": 3
   },
   "file_extension": ".py",
   "mimetype": "text/x-python",
   "name": "python",
   "nbconvert_exporter": "python",
   "pygments_lexer": "ipython3",
   "version": "3.7.1"
  },
  "vscode": {
   "interpreter": {
    "hash": "677fc101d535ce4014a23890028c7ca2129e44c201b590041d9bb0babe3f0388"
   }
  }
 },
 "nbformat": 4,
 "nbformat_minor": 5
}
