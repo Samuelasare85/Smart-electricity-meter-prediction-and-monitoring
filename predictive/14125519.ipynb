{
 "cells": [
  {
   "cell_type": "code",
   "execution_count": 1,
   "id": "28b2f4f0",
   "metadata": {},
   "outputs": [],
   "source": [
    "import requests"
   ]
  },
  {
   "cell_type": "code",
   "execution_count": 2,
   "id": "bf4c6920",
   "metadata": {},
   "outputs": [],
   "source": [
    "url = \"https://enersmart.sperixlabs.org/balance\""
   ]
  },
  {
   "cell_type": "code",
   "execution_count": 3,
   "id": "c78542e8",
   "metadata": {},
   "outputs": [],
   "source": [
    "payload = \"meter=14125519\" # change the meter number as required"
   ]
  },
  {
   "cell_type": "code",
   "execution_count": 4,
   "id": "23f29beb",
   "metadata": {},
   "outputs": [],
   "source": [
    "headers = {\n",
    "  'Accept': '*/*',\n",
    "  'Origin': 'https://enersmart.sperixlabs.org',\n",
    "  'Content-Type': 'application/x-www-form-urlencoded; charset=UTF-8'\n",
    "}"
   ]
  },
  {
   "cell_type": "code",
   "execution_count": 5,
   "id": "2afcd295",
   "metadata": {},
   "outputs": [],
   "source": [
    "response = requests.request(\"POST\", url, headers=headers, data=payload)"
   ]
  },
  {
   "cell_type": "code",
   "execution_count": 6,
   "id": "368b5ddd",
   "metadata": {
    "scrolled": true
   },
   "outputs": [],
   "source": [
    "result = response.json()"
   ]
  },
  {
   "cell_type": "code",
   "execution_count": 8,
   "id": "f5e9fa9d",
   "metadata": {},
   "outputs": [
    {
     "data": {
      "text/plain": [
       "dict_values([50.0, 8.75, 20220728, 0, 20220722, 0, 20220722, 0, 0])"
      ]
     },
     "execution_count": 8,
     "metadata": {},
     "output_type": "execute_result"
    }
   ],
   "source": [
    "result.values()"
   ]
  },
  {
   "cell_type": "code",
   "execution_count": null,
   "id": "1a9cc18a",
   "metadata": {},
   "outputs": [],
   "source": []
  },
  {
   "cell_type": "code",
   "execution_count": null,
   "id": "67bfa6a1",
   "metadata": {},
   "outputs": [],
   "source": []
  }
 ],
 "metadata": {
  "kernelspec": {
   "display_name": "Python 3 (ipykernel)",
   "language": "python",
   "name": "python3"
  },
  "language_info": {
   "codemirror_mode": {
    "name": "ipython",
    "version": 3
   },
   "file_extension": ".py",
   "mimetype": "text/x-python",
   "name": "python",
   "nbconvert_exporter": "python",
   "pygments_lexer": "ipython3",
   "version": "3.9.7"
  }
 },
 "nbformat": 4,
 "nbformat_minor": 5
}
