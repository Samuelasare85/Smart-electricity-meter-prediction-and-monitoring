{
 "cells": [
  {
   "cell_type": "code",
   "execution_count": 3,
   "id": "6d9d830a",
   "metadata": {},
   "outputs": [],
   "source": [
    "import requests"
   ]
  },
  {
   "cell_type": "code",
   "execution_count": 4,
   "id": "fbd6c55f",
   "metadata": {},
   "outputs": [],
   "source": [
    "url = \"https://enersmart.sperixlabs.org/balance\""
   ]
  },
  {
   "cell_type": "code",
   "execution_count": 5,
   "id": "f49baefa",
   "metadata": {},
   "outputs": [],
   "source": [
    "payload = \"meter=14124356\""
   ]
  },
  {
   "cell_type": "code",
   "execution_count": 6,
   "id": "3358e7a9",
   "metadata": {},
   "outputs": [],
   "source": [
    "headers = {\n",
    "  'Accept': '*/*',\n",
    "  'Origin': 'https://enersmart.sperixlabs.org',\n",
    "  'Content-Type': 'application/x-www-form-urlencoded; charset=UTF-8'\n",
    "}"
   ]
  },
  {
   "cell_type": "code",
   "execution_count": 7,
   "id": "7baa78af",
   "metadata": {},
   "outputs": [],
   "source": [
    "response = requests.request(\"POST\", url, headers=headers, data=payload)"
   ]
  },
  {
   "cell_type": "code",
   "execution_count": 8,
   "id": "fe4880cd",
   "metadata": {},
   "outputs": [],
   "source": [
    "result=response.json()"
   ]
  },
  {
   "cell_type": "code",
   "execution_count": 10,
   "id": "38f8ed17",
   "metadata": {},
   "outputs": [
    {
     "data": {
      "text/plain": [
       "{'lastTopupAmount': 20.0,\n",
       " 'balance': 8.2,\n",
       " 'lastTopupDate': 20220725,\n",
       " 'weekConsumption': 0,\n",
       " 'highestConsumptionDay': 20220722,\n",
       " 'maximumConsumption': 0,\n",
       " 'lowestConsumptionDay': 20220722,\n",
       " 'minimumConsumption': 0,\n",
       " 'averageConsumption': 0}"
      ]
     },
     "execution_count": 10,
     "metadata": {},
     "output_type": "execute_result"
    }
   ],
   "source": [
    "result"
   ]
  },
  {
   "cell_type": "code",
   "execution_count": null,
   "id": "51a2ea9b",
   "metadata": {},
   "outputs": [],
   "source": []
  }
 ],
 "metadata": {
  "kernelspec": {
   "display_name": "Python 3 (ipykernel)",
   "language": "python",
   "name": "python3"
  },
  "language_info": {
   "codemirror_mode": {
    "name": "ipython",
    "version": 3
   },
   "file_extension": ".py",
   "mimetype": "text/x-python",
   "name": "python",
   "nbconvert_exporter": "python",
   "pygments_lexer": "ipython3",
   "version": "3.9.7"
  }
 },
 "nbformat": 4,
 "nbformat_minor": 5
}
