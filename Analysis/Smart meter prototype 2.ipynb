{
 "cells": [
  {
   "cell_type": "code",
   "execution_count": 88,
   "id": "52e15fef",
   "metadata": {},
   "outputs": [],
   "source": [
    "import numpy as np\n",
    "import matplotlib.pyplot as plt\n",
    "import pandas as pd\n",
    "import os\n",
    "import statistics"
   ]
  },
  {
   "cell_type": "code",
   "execution_count": 4,
   "id": "a3f4546a",
   "metadata": {
    "scrolled": true
   },
   "outputs": [
    {
     "name": "stdout",
     "output_type": "stream",
     "text": [
      "['.ipynb_checkpoints', '14124356 meter.ipynb', '14125509 meter.ipynb', '14125519.ipynb', 'log.csv', 'log.xlsx', 'Smart meter .ipynb', 'Untitled.ipynb', '~$log.xlsx']\n"
     ]
    }
   ],
   "source": [
    "print(os.listdir())"
   ]
  },
  {
   "cell_type": "code",
   "execution_count": 119,
   "id": "586270e4",
   "metadata": {},
   "outputs": [],
   "source": [
    "smart_meter_data = pd.read_csv('log.csv',usecols=['balance','lastTopupAmount','date'])\n"
   ]
  },
  {
   "cell_type": "code",
   "execution_count": 120,
   "id": "d23c3955",
   "metadata": {},
   "outputs": [],
   "source": [
    "smart_meter_data['date'] = pd.to_datetime(smart_meter_data['date'])"
   ]
  },
  {
   "cell_type": "code",
   "execution_count": 118,
   "id": "cc7d25bc",
   "metadata": {},
   "outputs": [
    {
     "data": {
      "text/html": [
       "<div>\n",
       "<style scoped>\n",
       "    .dataframe tbody tr th:only-of-type {\n",
       "        vertical-align: middle;\n",
       "    }\n",
       "\n",
       "    .dataframe tbody tr th {\n",
       "        vertical-align: top;\n",
       "    }\n",
       "\n",
       "    .dataframe thead th {\n",
       "        text-align: right;\n",
       "    }\n",
       "</style>\n",
       "<table border=\"1\" class=\"dataframe\">\n",
       "  <thead>\n",
       "    <tr style=\"text-align: right;\">\n",
       "      <th></th>\n",
       "      <th>lastTopupAmount</th>\n",
       "      <th>balance</th>\n",
       "      <th>date</th>\n",
       "    </tr>\n",
       "  </thead>\n",
       "  <tbody>\n",
       "    <tr>\n",
       "      <th>0</th>\n",
       "      <td>100.0</td>\n",
       "      <td>72.00</td>\n",
       "      <td>2022-02-01</td>\n",
       "    </tr>\n",
       "    <tr>\n",
       "      <th>1</th>\n",
       "      <td>100.0</td>\n",
       "      <td>70.63</td>\n",
       "      <td>2022-02-02</td>\n",
       "    </tr>\n",
       "    <tr>\n",
       "      <th>2</th>\n",
       "      <td>100.0</td>\n",
       "      <td>68.92</td>\n",
       "      <td>2022-02-03</td>\n",
       "    </tr>\n",
       "    <tr>\n",
       "      <th>3</th>\n",
       "      <td>100.0</td>\n",
       "      <td>66.87</td>\n",
       "      <td>2022-02-04</td>\n",
       "    </tr>\n",
       "    <tr>\n",
       "      <th>4</th>\n",
       "      <td>100.0</td>\n",
       "      <td>64.81</td>\n",
       "      <td>2022-02-05</td>\n",
       "    </tr>\n",
       "    <tr>\n",
       "      <th>5</th>\n",
       "      <td>100.0</td>\n",
       "      <td>61.39</td>\n",
       "      <td>2022-02-06</td>\n",
       "    </tr>\n",
       "    <tr>\n",
       "      <th>6</th>\n",
       "      <td>100.0</td>\n",
       "      <td>58.65</td>\n",
       "      <td>2022-02-07</td>\n",
       "    </tr>\n",
       "    <tr>\n",
       "      <th>7</th>\n",
       "      <td>100.0</td>\n",
       "      <td>57.62</td>\n",
       "      <td>2022-02-08</td>\n",
       "    </tr>\n",
       "    <tr>\n",
       "      <th>8</th>\n",
       "      <td>100.0</td>\n",
       "      <td>53.16</td>\n",
       "      <td>2022-02-09</td>\n",
       "    </tr>\n",
       "    <tr>\n",
       "      <th>9</th>\n",
       "      <td>100.0</td>\n",
       "      <td>50.41</td>\n",
       "      <td>2022-02-10</td>\n",
       "    </tr>\n",
       "    <tr>\n",
       "      <th>10</th>\n",
       "      <td>100.0</td>\n",
       "      <td>44.23</td>\n",
       "      <td>2022-02-11</td>\n",
       "    </tr>\n",
       "    <tr>\n",
       "      <th>11</th>\n",
       "      <td>100.0</td>\n",
       "      <td>35.30</td>\n",
       "      <td>2022-02-12</td>\n",
       "    </tr>\n",
       "    <tr>\n",
       "      <th>12</th>\n",
       "      <td>100.0</td>\n",
       "      <td>34.61</td>\n",
       "      <td>2022-02-13</td>\n",
       "    </tr>\n",
       "    <tr>\n",
       "      <th>13</th>\n",
       "      <td>100.0</td>\n",
       "      <td>26.37</td>\n",
       "      <td>2022-02-14</td>\n",
       "    </tr>\n",
       "    <tr>\n",
       "      <th>14</th>\n",
       "      <td>100.0</td>\n",
       "      <td>25.69</td>\n",
       "      <td>2022-02-15</td>\n",
       "    </tr>\n",
       "    <tr>\n",
       "      <th>15</th>\n",
       "      <td>100.0</td>\n",
       "      <td>17.44</td>\n",
       "      <td>2022-02-16</td>\n",
       "    </tr>\n",
       "    <tr>\n",
       "      <th>16</th>\n",
       "      <td>100.0</td>\n",
       "      <td>16.07</td>\n",
       "      <td>2022-02-17</td>\n",
       "    </tr>\n",
       "    <tr>\n",
       "      <th>17</th>\n",
       "      <td>20.0</td>\n",
       "      <td>31.26</td>\n",
       "      <td>2022-02-18</td>\n",
       "    </tr>\n",
       "    <tr>\n",
       "      <th>18</th>\n",
       "      <td>20.0</td>\n",
       "      <td>29.89</td>\n",
       "      <td>2022-02-19</td>\n",
       "    </tr>\n",
       "    <tr>\n",
       "      <th>19</th>\n",
       "      <td>100.0</td>\n",
       "      <td>123.02</td>\n",
       "      <td>2022-02-20</td>\n",
       "    </tr>\n",
       "    <tr>\n",
       "      <th>20</th>\n",
       "      <td>100.0</td>\n",
       "      <td>121.64</td>\n",
       "      <td>2022-02-21</td>\n",
       "    </tr>\n",
       "    <tr>\n",
       "      <th>21</th>\n",
       "      <td>100.0</td>\n",
       "      <td>114.77</td>\n",
       "      <td>2022-02-22</td>\n",
       "    </tr>\n",
       "    <tr>\n",
       "      <th>22</th>\n",
       "      <td>100.0</td>\n",
       "      <td>112.71</td>\n",
       "      <td>2022-02-23</td>\n",
       "    </tr>\n",
       "    <tr>\n",
       "      <th>23</th>\n",
       "      <td>100.0</td>\n",
       "      <td>105.16</td>\n",
       "      <td>2022-02-24</td>\n",
       "    </tr>\n",
       "    <tr>\n",
       "      <th>24</th>\n",
       "      <td>100.0</td>\n",
       "      <td>103.78</td>\n",
       "      <td>2022-02-25</td>\n",
       "    </tr>\n",
       "    <tr>\n",
       "      <th>25</th>\n",
       "      <td>52.0</td>\n",
       "      <td>40.53</td>\n",
       "      <td>2022-03-26</td>\n",
       "    </tr>\n",
       "    <tr>\n",
       "      <th>26</th>\n",
       "      <td>52.0</td>\n",
       "      <td>39.85</td>\n",
       "      <td>2022-03-27</td>\n",
       "    </tr>\n",
       "    <tr>\n",
       "      <th>27</th>\n",
       "      <td>0.0</td>\n",
       "      <td>85.92</td>\n",
       "      <td>2022-02-28</td>\n",
       "    </tr>\n",
       "    <tr>\n",
       "      <th>28</th>\n",
       "      <td>100.0</td>\n",
       "      <td>76.07</td>\n",
       "      <td>2022-03-01</td>\n",
       "    </tr>\n",
       "    <tr>\n",
       "      <th>29</th>\n",
       "      <td>100.0</td>\n",
       "      <td>75.72</td>\n",
       "      <td>2022-03-02</td>\n",
       "    </tr>\n",
       "  </tbody>\n",
       "</table>\n",
       "</div>"
      ],
      "text/plain": [
       "    lastTopupAmount  balance       date\n",
       "0             100.0    72.00 2022-02-01\n",
       "1             100.0    70.63 2022-02-02\n",
       "2             100.0    68.92 2022-02-03\n",
       "3             100.0    66.87 2022-02-04\n",
       "4             100.0    64.81 2022-02-05\n",
       "5             100.0    61.39 2022-02-06\n",
       "6             100.0    58.65 2022-02-07\n",
       "7             100.0    57.62 2022-02-08\n",
       "8             100.0    53.16 2022-02-09\n",
       "9             100.0    50.41 2022-02-10\n",
       "10            100.0    44.23 2022-02-11\n",
       "11            100.0    35.30 2022-02-12\n",
       "12            100.0    34.61 2022-02-13\n",
       "13            100.0    26.37 2022-02-14\n",
       "14            100.0    25.69 2022-02-15\n",
       "15            100.0    17.44 2022-02-16\n",
       "16            100.0    16.07 2022-02-17\n",
       "17             20.0    31.26 2022-02-18\n",
       "18             20.0    29.89 2022-02-19\n",
       "19            100.0   123.02 2022-02-20\n",
       "20            100.0   121.64 2022-02-21\n",
       "21            100.0   114.77 2022-02-22\n",
       "22            100.0   112.71 2022-02-23\n",
       "23            100.0   105.16 2022-02-24\n",
       "24            100.0   103.78 2022-02-25\n",
       "25             52.0    40.53 2022-03-26\n",
       "26             52.0    39.85 2022-03-27\n",
       "27              0.0    85.92 2022-02-28\n",
       "28            100.0    76.07 2022-03-01\n",
       "29            100.0    75.72 2022-03-02"
      ]
     },
     "execution_count": 118,
     "metadata": {},
     "output_type": "execute_result"
    }
   ],
   "source": [
    "smart_meter_data.head(30)"
   ]
  },
  {
   "cell_type": "code",
   "execution_count": 111,
   "id": "aaf54699",
   "metadata": {},
   "outputs": [],
   "source": [
    "balance = smart_meter_data['balance'][28:57]"
   ]
  },
  {
   "cell_type": "code",
   "execution_count": null,
   "id": "7504a8a9",
   "metadata": {},
   "outputs": [],
   "source": []
  },
  {
   "cell_type": "code",
   "execution_count": 2,
   "id": "f091e101",
   "metadata": {},
   "outputs": [
    {
     "ename": "NameError",
     "evalue": "name 'smart_meter_data' is not defined",
     "output_type": "error",
     "traceback": [
      "\u001b[1;31m---------------------------------------------------------------------------\u001b[0m",
      "\u001b[1;31mNameError\u001b[0m                                 Traceback (most recent call last)",
      "\u001b[1;32mC:\\Users\\SAM-AS~1\\AppData\\Local\\Temp/ipykernel_18240/1532849045.py\u001b[0m in \u001b[0;36m<module>\u001b[1;34m\u001b[0m\n\u001b[1;32m----> 1\u001b[1;33m \u001b[0mdate_time\u001b[0m\u001b[1;33m=\u001b[0m \u001b[0msmart_meter_data\u001b[0m\u001b[1;33m[\u001b[0m\u001b[1;34m'date'\u001b[0m\u001b[1;33m]\u001b[0m\u001b[1;33m[\u001b[0m\u001b[1;36m28\u001b[0m\u001b[1;33m:\u001b[0m\u001b[1;36m57\u001b[0m\u001b[1;33m]\u001b[0m\u001b[1;33m\u001b[0m\u001b[1;33m\u001b[0m\u001b[0m\n\u001b[0m",
      "\u001b[1;31mNameError\u001b[0m: name 'smart_meter_data' is not defined"
     ]
    }
   ],
   "source": [
    "date_time= smart_meter_data['date'][28:57]"
   ]
  },
  {
   "cell_type": "code",
   "execution_count": 1,
   "id": "b32ec46d",
   "metadata": {},
   "outputs": [
    {
     "ename": "NameError",
     "evalue": "name 'date_time' is not defined",
     "output_type": "error",
     "traceback": [
      "\u001b[1;31m---------------------------------------------------------------------------\u001b[0m",
      "\u001b[1;31mNameError\u001b[0m                                 Traceback (most recent call last)",
      "\u001b[1;32mC:\\Users\\SAM-AS~1\\AppData\\Local\\Temp/ipykernel_18240/3636148644.py\u001b[0m in \u001b[0;36m<module>\u001b[1;34m\u001b[0m\n\u001b[1;32m----> 1\u001b[1;33m \u001b[0mdate_time\u001b[0m\u001b[1;33m\u001b[0m\u001b[1;33m\u001b[0m\u001b[0m\n\u001b[0m",
      "\u001b[1;31mNameError\u001b[0m: name 'date_time' is not defined"
     ]
    }
   ],
   "source": [
    "date_time"
   ]
  },
  {
   "cell_type": "code",
   "execution_count": 113,
   "id": "a9664a62",
   "metadata": {},
   "outputs": [
    {
     "data": {
      "image/png": "[encoded data removed]",
      "text/plain": [
       "<Figure size 432x288 with 1 Axes>"
      ]
     },
     "metadata": {
      "needs_background": "light"
     },
     "output_type": "display_data"
    }
   ],
   "source": [
    "plt.plot(date_time, balance)\n",
    "plt.xticks(rotation='vertical')\n",
    "plt.ylabel('Balance')\n",
    "plt.xlabel('Date')\n",
    "plt.grid()\n",
    "plt.show()"
   ]
  },
  {
   "cell_type": "code",
   "execution_count": 72,
   "id": "9ef1b957",
   "metadata": {},
   "outputs": [],
   "source": [
    "week_1_balance = smart_meter_data['balance'][28: 36]\n",
    "week_2_balance = smart_meter_data['balance'][36: 43]\n",
    "week_3_balance = smart_meter_data['balance'][43: 50]\n",
    "week_4_balance = smart_meter_data['balance'][50: 61]"
   ]
  },
  {
   "cell_type": "code",
   "execution_count": 74,
   "id": "d6214588",
   "metadata": {},
   "outputs": [],
   "source": [
    "week_1_date = smart_meter_data['date'][28: 36]\n",
    "week_2_date = smart_meter_data['date'][36: 43]\n",
    "week_3_date = smart_meter_data['date'][43: 50]\n",
    "week_4_date = smart_meter_data['date'][50: 61]"
   ]
  },
  {
   "cell_type": "code",
   "execution_count": 84,
   "id": "1eb40ec2",
   "metadata": {},
   "outputs": [
    {
     "data": {
      "image/png": "[encoded data removed]",
      "text/plain": [
       "<Figure size 432x288 with 1 Axes>"
      ]
     },
     "metadata": {
      "needs_background": "light"
     },
     "output_type": "display_data"
    },
    {
     "data": {
      "image/png": "[encoded data removed]",
      "text/plain": [
       "<Figure size 432x288 with 1 Axes>"
      ]
     },
     "metadata": {
      "needs_background": "light"
     },
     "output_type": "display_data"
    }
   ],
   "source": [
    "plt.plot(week_1_date, week_1_balance)\n",
    "plt.xticks(rotation='vertical', size=13)\n",
    "plt.grid()\n",
    "plt.show()\n",
    "\n",
    "plt.plot(week_2_date, week_2_balance)\n",
    "plt.xticks(rotation='vertical', size=13)\n",
    "plt.grid()\n",
    "plt.show()"
   ]
  },
  {
   "cell_type": "code",
   "execution_count": 107,
   "id": "ee9e63f3",
   "metadata": {},
   "outputs": [],
   "source": []
  },
  {
   "cell_type": "code",
   "execution_count": 108,
   "id": "099f2d01",
   "metadata": {},
   "outputs": [
    {
     "data": {
      "text/html": [
       "<div>\n",
       "<style scoped>\n",
       "    .dataframe tbody tr th:only-of-type {\n",
       "        vertical-align: middle;\n",
       "    }\n",
       "\n",
       "    .dataframe tbody tr th {\n",
       "        vertical-align: top;\n",
       "    }\n",
       "\n",
       "    .dataframe thead th {\n",
       "        text-align: right;\n",
       "    }\n",
       "</style>\n",
       "<table border=\"1\" class=\"dataframe\">\n",
       "  <thead>\n",
       "    <tr style=\"text-align: right;\">\n",
       "      <th></th>\n",
       "      <th>lastTopupAmount</th>\n",
       "      <th>balance</th>\n",
       "      <th>date</th>\n",
       "    </tr>\n",
       "  </thead>\n",
       "  <tbody>\n",
       "    <tr>\n",
       "      <th>0</th>\n",
       "      <td>100.0</td>\n",
       "      <td>72.00</td>\n",
       "      <td>2022-02-01</td>\n",
       "    </tr>\n",
       "    <tr>\n",
       "      <th>1</th>\n",
       "      <td>100.0</td>\n",
       "      <td>70.63</td>\n",
       "      <td>2022-02-02</td>\n",
       "    </tr>\n",
       "    <tr>\n",
       "      <th>2</th>\n",
       "      <td>100.0</td>\n",
       "      <td>68.92</td>\n",
       "      <td>2022-02-03</td>\n",
       "    </tr>\n",
       "    <tr>\n",
       "      <th>3</th>\n",
       "      <td>100.0</td>\n",
       "      <td>66.87</td>\n",
       "      <td>2022-02-04</td>\n",
       "    </tr>\n",
       "    <tr>\n",
       "      <th>4</th>\n",
       "      <td>100.0</td>\n",
       "      <td>64.81</td>\n",
       "      <td>2022-02-05</td>\n",
       "    </tr>\n",
       "    <tr>\n",
       "      <th>...</th>\n",
       "      <td>...</td>\n",
       "      <td>...</td>\n",
       "      <td>...</td>\n",
       "    </tr>\n",
       "    <tr>\n",
       "      <th>80</th>\n",
       "      <td>100.0</td>\n",
       "      <td>39.02</td>\n",
       "      <td>2022-04-24</td>\n",
       "    </tr>\n",
       "    <tr>\n",
       "      <th>81</th>\n",
       "      <td>100.0</td>\n",
       "      <td>36.27</td>\n",
       "      <td>2022-04-24</td>\n",
       "    </tr>\n",
       "    <tr>\n",
       "      <th>82</th>\n",
       "      <td>100.0</td>\n",
       "      <td>35.59</td>\n",
       "      <td>2022-04-25</td>\n",
       "    </tr>\n",
       "    <tr>\n",
       "      <th>83</th>\n",
       "      <td>200.0</td>\n",
       "      <td>217.73</td>\n",
       "      <td>2022-04-29</td>\n",
       "    </tr>\n",
       "    <tr>\n",
       "      <th>84</th>\n",
       "      <td>200.0</td>\n",
       "      <td>216.35</td>\n",
       "      <td>2022-04-30</td>\n",
       "    </tr>\n",
       "  </tbody>\n",
       "</table>\n",
       "<p>85 rows × 3 columns</p>\n",
       "</div>"
      ],
      "text/plain": [
       "    lastTopupAmount  balance       date\n",
       "0             100.0    72.00 2022-02-01\n",
       "1             100.0    70.63 2022-02-02\n",
       "2             100.0    68.92 2022-02-03\n",
       "3             100.0    66.87 2022-02-04\n",
       "4             100.0    64.81 2022-02-05\n",
       "..              ...      ...        ...\n",
       "80            100.0    39.02 2022-04-24\n",
       "81            100.0    36.27 2022-04-24\n",
       "82            100.0    35.59 2022-04-25\n",
       "83            200.0   217.73 2022-04-29\n",
       "84            200.0   216.35 2022-04-30\n",
       "\n",
       "[85 rows x 3 columns]"
      ]
     },
     "execution_count": 108,
     "metadata": {},
     "output_type": "execute_result"
    }
   ],
   "source": [
    "smart_meter_data"
   ]
  },
  {
   "cell_type": "markdown",
   "id": "542ea7ca",
   "metadata": {},
   "source": [
    "# Calculating the average"
   ]
  },
  {
   "cell_type": "code",
   "execution_count": null,
   "id": "ea727c9a",
   "metadata": {},
   "outputs": [],
   "source": []
  },
  {
   "cell_type": "code",
   "execution_count": null,
   "id": "78c4c679",
   "metadata": {},
   "outputs": [],
   "source": []
  },
  {
   "cell_type": "code",
   "execution_count": null,
   "id": "363a4ced",
   "metadata": {},
   "outputs": [],
   "source": []
  }
 ],
 "metadata": {
  "kernelspec": {
   "display_name": "Python 3 (ipykernel)",
   "language": "python",
   "name": "python3"
  },
  "language_info": {
   "codemirror_mode": {
    "name": "ipython",
    "version": 3
   },
   "file_extension": ".py",
   "mimetype": "text/x-python",
   "name": "python",
   "nbconvert_exporter": "python",
   "pygments_lexer": "ipython3",
   "version": "3.9.7"
  }
 },
 "nbformat": 4,
 "nbformat_minor": 5
}
